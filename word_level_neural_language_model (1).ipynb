{
  "nbformat": 4,
  "nbformat_minor": 0,
  "metadata": {
    "colab": {
      "name": "word-level-neural-language-model.ipynb",
      "provenance": [],
      "collapsed_sections": []
    },
    "kernelspec": {
      "name": "python3",
      "display_name": "Python 3"
    },
    "accelerator": "GPU"
  },
  "cells": [
    {
      "cell_type": "code",
      "metadata": {
        "id": "Cy6ky-61ahb3",
        "outputId": "818c532f-d45d-4776-d88d-aa16a1c4f14c",
        "colab": {
          "base_uri": "https://localhost:8080/",
          "height": 34
        }
      },
      "source": [
        "import pandas as pd \n",
        "import numpy as np\n",
        "from google.colab import drive\n",
        "drive.mount('/content/drive')"
      ],
      "execution_count": 1,
      "outputs": [
        {
          "output_type": "stream",
          "text": [
            "Mounted at /content/drive\n"
          ],
          "name": "stdout"
        }
      ]
    },
    {
      "cell_type": "code",
      "metadata": {
        "id": "1whzyLSdaof5"
      },
      "source": [
        "path = '/content/drive/My Drive/war.txt'\n",
        "text = open(path, 'r' , errors='ignore').read()"
      ],
      "execution_count": 3,
      "outputs": []
    },
    {
      "cell_type": "code",
      "metadata": {
        "id": "lOmImrf6bJOW",
        "outputId": "04d0494f-a083-4393-f3bb-6f7088291124",
        "colab": {
          "base_uri": "https://localhost:8080/",
          "height": 35
        }
      },
      "source": [
        "import string\n",
        "import re\n",
        "string.punctuation"
      ],
      "execution_count": 4,
      "outputs": [
        {
          "output_type": "execute_result",
          "data": {
            "application/vnd.google.colaboratory.intrinsic+json": {
              "type": "string"
            },
            "text/plain": [
              "'!\"#$%&\\'()*+,-./:;<=>?@[\\\\]^_`{|}~'"
            ]
          },
          "metadata": {
            "tags": []
          },
          "execution_count": 4
        }
      ]
    },
    {
      "cell_type": "code",
      "metadata": {
        "id": "Swi6HEcFf2bp",
        "outputId": "b0fc7650-7aed-4c74-9c57-a430f620da41",
        "colab": {
          "base_uri": "https://localhost:8080/",
          "height": 35
        }
      },
      "source": [
        "text[:100]"
      ],
      "execution_count": 5,
      "outputs": [
        {
          "output_type": "execute_result",
          "data": {
            "application/vnd.google.colaboratory.intrinsic+json": {
              "type": "string"
            },
            "text/plain": [
              "'\\nTHE EVE OF THE WAR.\\n\\nNo one would have believed in the last years of the nineteenth century\\nthat th'"
            ]
          },
          "metadata": {
            "tags": []
          },
          "execution_count": 5
        }
      ]
    },
    {
      "cell_type": "code",
      "metadata": {
        "id": "VAT_luB7f-0F"
      },
      "source": [
        "def clean_text(text):\n",
        "  text = text.replace('\\n' ,' ')\n",
        "  tokens = text.split('.')\n",
        "  clean_text= []\n",
        "  for token in tokens:\n",
        "    clean_text.append(re.sub('[!\"#$%&\\'()*+,-./:;<=>?@[\\\\]^_`{|}~]' , '' , token))\n",
        "  clean_text = [word.lower() for word in clean_text]\n",
        "  return clean_text  \n",
        "    \n"
      ],
      "execution_count": 6,
      "outputs": []
    },
    {
      "cell_type": "code",
      "metadata": {
        "id": "pRwotQBNpkqB",
        "outputId": "09069f93-bf6f-495b-a980-18a93bd6b7c8",
        "colab": {
          "base_uri": "https://localhost:8080/",
          "height": 153
        }
      },
      "source": [
        "print(text[:300])"
      ],
      "execution_count": 7,
      "outputs": [
        {
          "output_type": "stream",
          "text": [
            "\n",
            "THE EVE OF THE WAR.\n",
            "\n",
            "No one would have believed in the last years of the nineteenth century\n",
            "that this world was being watched keenly and closely by intelligences\n",
            "greater than mans and yet as mortal as his own; that as men busied\n",
            "themselves about their various concerns they were scrutinised and\n",
            "stud\n"
          ],
          "name": "stdout"
        }
      ]
    },
    {
      "cell_type": "code",
      "metadata": {
        "id": "LSbQkUhPjprb"
      },
      "source": [
        "tokens = clean_text(text)"
      ],
      "execution_count": 8,
      "outputs": []
    },
    {
      "cell_type": "code",
      "metadata": {
        "id": "z0AmhDhUkydW",
        "outputId": "7fd296d7-92b8-46e0-8332-0fc98eb29c54",
        "colab": {
          "base_uri": "https://localhost:8080/",
          "height": 34
        }
      },
      "source": [
        "print(len(tokens))"
      ],
      "execution_count": 9,
      "outputs": [
        {
          "output_type": "stream",
          "text": [
            "2887\n"
          ],
          "name": "stdout"
        }
      ]
    },
    {
      "cell_type": "code",
      "metadata": {
        "id": "Aj4E1IAarKbs",
        "outputId": "38e4d69a-2425-4105-c566-5ec92610d1fa",
        "colab": {
          "base_uri": "https://localhost:8080/",
          "height": 34
        }
      },
      "source": [
        "length = [len(i) for i in tokens]\n",
        "print(max(length))\n"
      ],
      "execution_count": 10,
      "outputs": [
        {
          "output_type": "stream",
          "text": [
            "722\n"
          ],
          "name": "stdout"
        }
      ]
    },
    {
      "cell_type": "code",
      "metadata": {
        "id": "Dw0PqagvPuLP",
        "outputId": "17d061a6-b462-4fb4-8751-89e7d6d8b9ef",
        "colab": {
          "base_uri": "https://localhost:8080/",
          "height": 119
        }
      },
      "source": [
        "length_df = pd.DataFrame(length , columns=['Length'])\n",
        "print(length_df.head())"
      ],
      "execution_count": 11,
      "outputs": [
        {
          "output_type": "stream",
          "text": [
            "   Length\n",
            "0      19\n",
            "1     420\n",
            "2     143\n",
            "3      67\n",
            "4     168\n"
          ],
          "name": "stdout"
        }
      ]
    },
    {
      "cell_type": "code",
      "metadata": {
        "id": "HA43PS8ohOmd",
        "outputId": "21debf37-3ed7-4c92-a3e3-68e04f6c6d70",
        "colab": {
          "base_uri": "https://localhost:8080/",
          "height": 388
        }
      },
      "source": [
        "import matplotlib.pyplot as plt\n",
        "plt.figure(figsize=(6,6))\n",
        "plt.hist(length , bins=25)\n",
        "plt.xlabel('Length of Sequences')\n",
        "plt.ylabel('Count Falling in that range')\n",
        "plt.show()"
      ],
      "execution_count": 12,
      "outputs": [
        {
          "output_type": "display_data",
          "data": {
            "image/png": "[encoded data removed]",
            "text/plain": [
              "<Figure size 432x432 with 1 Axes>"
            ]
          },
          "metadata": {
            "tags": [],
            "needs_background": "light"
          }
        }
      ]
    },
    {
      "cell_type": "markdown",
      "metadata": {
        "id": "N3MkUpaYAL7h"
      },
      "source": [
        "# As you can see , there are few tokens whoose length is too low .So they might be noise or Nan values"
      ]
    },
    {
      "cell_type": "code",
      "metadata": {
        "id": "1V-T8lUBQ13i",
        "outputId": "fcc188e6-3474-4204-d516-6515ddefec1b",
        "colab": {
          "base_uri": "https://localhost:8080/",
          "height": 102
        }
      },
      "source": [
        "indices_to_drop = length_df[length_df['Length'] < 30].index\n",
        "print(len(indices_to_drop))\n",
        "indices_to_drop"
      ],
      "execution_count": 13,
      "outputs": [
        {
          "output_type": "stream",
          "text": [
            "237\n"
          ],
          "name": "stdout"
        },
        {
          "output_type": "execute_result",
          "data": {
            "text/plain": [
              "Int64Index([   0,   58,   83,  136,  137,  141,  142,  177,  217,  218,\n",
              "            ...\n",
              "            2826, 2827, 2831, 2832, 2869, 2872, 2882, 2883, 2884, 2886],\n",
              "           dtype='int64', length=237)"
            ]
          },
          "metadata": {
            "tags": []
          },
          "execution_count": 13
        }
      ]
    },
    {
      "cell_type": "code",
      "metadata": {
        "id": "M9aEwcgTSs46"
      },
      "source": [
        "count = 0\n",
        "for i in indices_to_drop:\n",
        "  tokens.pop(i-count)\n",
        "  count+=1"
      ],
      "execution_count": 14,
      "outputs": []
    },
    {
      "cell_type": "code",
      "metadata": {
        "id": "gagSECn8S8tB",
        "outputId": "e9f0bda5-d268-4e9a-fe4b-9f5e0892f6d9",
        "colab": {
          "base_uri": "https://localhost:8080/",
          "height": 34
        }
      },
      "source": [
        "len(tokens)"
      ],
      "execution_count": 15,
      "outputs": [
        {
          "output_type": "execute_result",
          "data": {
            "text/plain": [
              "2650"
            ]
          },
          "metadata": {
            "tags": []
          },
          "execution_count": 15
        }
      ]
    },
    {
      "cell_type": "code",
      "metadata": {
        "id": "v8RluKe4S6T3",
        "outputId": "3dd561f6-c1e5-422a-9250-c4f93df66e9b",
        "colab": {
          "base_uri": "https://localhost:8080/",
          "height": 51
        }
      },
      "source": [
        "length = [len(i) for i in tokens]\n",
        "print(max(length))\n",
        "length_df = pd.DataFrame(length , columns=['Length'])\n",
        "print(len(length_df[length_df['Length']< 30]))"
      ],
      "execution_count": 16,
      "outputs": [
        {
          "output_type": "stream",
          "text": [
            "722\n",
            "0\n"
          ],
          "name": "stdout"
        }
      ]
    },
    {
      "cell_type": "code",
      "metadata": {
        "id": "d2QYYHsvUe2v",
        "outputId": "13d3223d-bf74-4687-ce56-9d3b07842226",
        "colab": {
          "base_uri": "https://localhost:8080/",
          "height": 388
        }
      },
      "source": [
        "import matplotlib.pyplot as plt\n",
        "#fig,ax = plt.figure(figsize=(6,6))\n",
        "plt.figure(figsize=(6,6))\n",
        "plt.hist(length , bins=20)\n",
        "plt.xlabel('Length of Sequences')\n",
        "plt.ylabel('Count Falling in that range')\n",
        "plt.show()"
      ],
      "execution_count": 17,
      "outputs": [
        {
          "output_type": "display_data",
          "data": {
            "image/png": "[encoded data removed]",
            "text/plain": [
              "<Figure size 432x432 with 1 Axes>"
            ]
          },
          "metadata": {
            "tags": [],
            "needs_background": "light"
          }
        }
      ]
    },
    {
      "cell_type": "markdown",
      "metadata": {
        "id": "eBYDBHmT_3m6"
      },
      "source": [
        ""
      ]
    },
    {
      "cell_type": "code",
      "metadata": {
        "id": "FwbiVrnQQYB6"
      },
      "source": [
        "def save_doc(lines , filename):\n",
        "  # Saving each line on a new line\n",
        "  data = '\\n'.join(lines)\n",
        "  file = open(filename , 'w')\n",
        "  file.write(data)\n",
        "  file.close()\n",
        "  print(\"Done\")"
      ],
      "execution_count": 19,
      "outputs": []
    },
    {
      "cell_type": "code",
      "metadata": {
        "id": "Tb6Rl823ng0c",
        "outputId": "caffbf5b-633c-4fed-c3f7-29ed065c1297",
        "colab": {
          "base_uri": "https://localhost:8080/",
          "height": 34
        }
      },
      "source": [
        "file_name = 'clean_war.txt'\n",
        "save_doc(sequences_2 , file_name)"
      ],
      "execution_count": 20,
      "outputs": [
        {
          "output_type": "stream",
          "text": [
            "Done\n"
          ],
          "name": "stdout"
        }
      ]
    },
    {
      "cell_type": "code",
      "metadata": {
        "id": "fc0-vQ25ZgKR"
      },
      "source": [
        "def load_data(filename):\n",
        "  file = open(filename)\n",
        "  text = file.read()\n",
        "  file.close()\n",
        "  return text"
      ],
      "execution_count": 21,
      "outputs": []
    },
    {
      "cell_type": "code",
      "metadata": {
        "id": "eiNUWwQ9ZYW-"
      },
      "source": [
        "file_name = 'clean_war.txt'\n",
        "doc = load_data(file_name)\n",
        "lines = doc.split('\\n')\n"
      ],
      "execution_count": 22,
      "outputs": []
    },
    {
      "cell_type": "code",
      "metadata": {
        "id": "ItLC05-ri4ho",
        "outputId": "059239cc-e308-4bb3-fe9d-07f1d5e9e68e",
        "colab": {
          "base_uri": "https://localhost:8080/",
          "height": 69
        }
      },
      "source": [
        "lines[0]"
      ],
      "execution_count": 23,
      "outputs": [
        {
          "output_type": "execute_result",
          "data": {
            "application/vnd.google.colaboratory.intrinsic+json": {
              "type": "string"
            },
            "text/plain": [
              "'  no one would have believed in the last years of the nineteenth century that this world was being watched keenly and closely by intelligences greater than mans and yet as mortal as his own that as men busied themselves about their various concerns they were scrutinised and studied perhaps almost as narrowly as a man with a microscope might scrutinise the transient creatures that swarm and multiply in a drop of water'"
            ]
          },
          "metadata": {
            "tags": []
          },
          "execution_count": 23
        }
      ]
    },
    {
      "cell_type": "code",
      "metadata": {
        "id": "9MIeInf0al10"
      },
      "source": [
        "from keras.preprocessing.text import Tokenizer\n",
        "from keras.utils import to_categorical\n",
        "from keras.models import Sequential\n",
        "from keras.layers import Dense,LSTM,Embedding,Dropout\n",
        "from keras.preprocessing.sequence import pad_sequences\n",
        "import random"
      ],
      "execution_count": 68,
      "outputs": []
    },
    {
      "cell_type": "code",
      "metadata": {
        "id": "cwMHlwKoazTY"
      },
      "source": [
        "tokenizer = Tokenizer()\n",
        "tokenizer.fit_on_texts(lines)\n",
        "sequences = tokenizer.texts_to_sequences(lines)"
      ],
      "execution_count": 25,
      "outputs": []
    },
    {
      "cell_type": "code",
      "metadata": {
        "id": "Jv0vbnXca3NE",
        "outputId": "2004c316-1b0d-4697-d052-d364f6a9fb37",
        "colab": {
          "base_uri": "https://localhost:8080/",
          "height": 34
        }
      },
      "source": [
        "vocab_size = len(tokenizer.word_index)+1\n",
        "print(vocab_size)"
      ],
      "execution_count": 26,
      "outputs": [
        {
          "output_type": "stream",
          "text": [
            "6936\n"
          ],
          "name": "stdout"
        }
      ]
    },
    {
      "cell_type": "code",
      "metadata": {
        "id": "GhqwbWLCa-eb"
      },
      "source": [
        "# Padding sequences\n",
        "max_len = 100 + 1\n",
        "sequences = pad_sequences(sequences , maxlen = max_len , padding= 'pre' , truncating='pre')"
      ],
      "execution_count": 29,
      "outputs": []
    },
    {
      "cell_type": "code",
      "metadata": {
        "id": "epXXMJrGatMg"
      },
      "source": [
        "sequences = np.array(sequences)\n",
        "X,y = sequences[:,:-1] , sequences[:,-1]\n",
        "y = to_categorical(y , num_classes=vocab_size)\n",
        "seq_length = X.shape[1]"
      ],
      "execution_count": 30,
      "outputs": []
    },
    {
      "cell_type": "code",
      "metadata": {
        "id": "aUafWi5Ae9NX",
        "outputId": "c9bb1603-1d09-4f00-c906-67e11208c842",
        "colab": {
          "base_uri": "https://localhost:8080/",
          "height": 34
        }
      },
      "source": [
        "print(seq_length)"
      ],
      "execution_count": 33,
      "outputs": [
        {
          "output_type": "stream",
          "text": [
            "100\n"
          ],
          "name": "stdout"
        }
      ]
    },
    {
      "cell_type": "code",
      "metadata": {
        "id": "UQtq03p00h3n",
        "outputId": "5b2308ee-0bd6-4009-c2be-4ec8d6cd1d64",
        "colab": {
          "base_uri": "https://localhost:8080/",
          "height": 357
        }
      },
      "source": [
        "# downloading  pretrained GloVe embeddings\n",
        "!wget http://nlp.stanford.edu/data/glove.6B.zip"
      ],
      "execution_count": 50,
      "outputs": [
        {
          "output_type": "stream",
          "text": [
            "--2020-09-27 13:46:56--  http://nlp.stanford.edu/data/glove.6B.zip\n",
            "Resolving nlp.stanford.edu (nlp.stanford.edu)... 171.64.67.140\n",
            "Connecting to nlp.stanford.edu (nlp.stanford.edu)|171.64.67.140|:80... connected.\n",
            "HTTP request sent, awaiting response... 302 Found\n",
            "Location: https://nlp.stanford.edu/data/glove.6B.zip [following]\n",
            "--2020-09-27 13:46:56--  https://nlp.stanford.edu/data/glove.6B.zip\n",
            "Connecting to nlp.stanford.edu (nlp.stanford.edu)|171.64.67.140|:443... connected.\n",
            "HTTP request sent, awaiting response... 301 Moved Permanently\n",
            "Location: http://downloads.cs.stanford.edu/nlp/data/glove.6B.zip [following]\n",
            "--2020-09-27 13:46:57--  http://downloads.cs.stanford.edu/nlp/data/glove.6B.zip\n",
            "Resolving downloads.cs.stanford.edu (downloads.cs.stanford.edu)... 171.64.64.22\n",
            "Connecting to downloads.cs.stanford.edu (downloads.cs.stanford.edu)|171.64.64.22|:80... connected.\n",
            "HTTP request sent, awaiting response... 200 OK\n",
            "Length: 862182613 (822M) [application/zip]\n",
            "Saving to: ‘glove.6B.zip’\n",
            "\n",
            "glove.6B.zip        100%[===================>] 822.24M  2.26MB/s    in 6m 29s  \n",
            "\n",
            "2020-09-27 13:53:27 (2.11 MB/s) - ‘glove.6B.zip’ saved [862182613/862182613]\n",
            "\n"
          ],
          "name": "stdout"
        }
      ]
    },
    {
      "cell_type": "code",
      "metadata": {
        "id": "GsxWAMGD0kdw",
        "outputId": "e702f458-4674-4bb5-f711-994e28bfade4",
        "colab": {
          "base_uri": "https://localhost:8080/",
          "height": 102
        }
      },
      "source": [
        "!unzip glove.6B.zip"
      ],
      "execution_count": 51,
      "outputs": [
        {
          "output_type": "stream",
          "text": [
            "Archive:  glove.6B.zip\n",
            "  inflating: glove.6B.50d.txt        \n",
            "  inflating: glove.6B.100d.txt       \n",
            "  inflating: glove.6B.200d.txt       \n",
            "  inflating: glove.6B.300d.txt       \n"
          ],
          "name": "stdout"
        }
      ]
    },
    {
      "cell_type": "code",
      "metadata": {
        "id": "dT5kZH2l0iD8"
      },
      "source": [
        "import os\n",
        "import numpy as np"
      ],
      "execution_count": 52,
      "outputs": []
    },
    {
      "cell_type": "code",
      "metadata": {
        "id": "wA4LH5gQ0rZN",
        "outputId": "9fa9ecb1-a141-4014-e217-3138e019080b",
        "colab": {
          "base_uri": "https://localhost:8080/",
          "height": 34
        }
      },
      "source": [
        "glove_dir = './'\n",
        "\n",
        "embeddings_index = {} #initialize dictionary\n",
        "f = open(os.path.join(glove_dir, 'glove.6B.100d.txt'))\n",
        "for line in f:\n",
        "    values = line.split()\n",
        "    word = values[0]\n",
        "    coefs = np.asarray(values[1:], dtype='float32')\n",
        "    embeddings_index[word] = coefs\n",
        "f.close()\n",
        "\n",
        "print('Found %s word vectors.' % len(embeddings_index))"
      ],
      "execution_count": 53,
      "outputs": [
        {
          "output_type": "stream",
          "text": [
            "Found 400000 word vectors.\n"
          ],
          "name": "stdout"
        }
      ]
    },
    {
      "cell_type": "code",
      "metadata": {
        "id": "mvtqPv6m0rV6"
      },
      "source": [
        "embedding_dim = 100\n",
        "\n",
        "embedding_matrix = np.zeros((vocab_size, embedding_dim)) #create an array of zeros with word_num rows and embedding_dim columns\n",
        "for word, i in tokenizer.word_index.items():\n",
        "    embedding_vector = embeddings_index.get(word)\n",
        "    if i < vocab_size:\n",
        "        if embedding_vector is not None:\n",
        "            # Words not found in embedding index will be all-zeros.\n",
        "            embedding_matrix[i] = embedding_vector"
      ],
      "execution_count": 57,
      "outputs": []
    },
    {
      "cell_type": "code",
      "metadata": {
        "id": "MnnsFvBT0h__",
        "outputId": "18522ece-ab49-40f9-8279-ca1db232574e",
        "colab": {
          "base_uri": "https://localhost:8080/",
          "height": 374
        }
      },
      "source": [
        "# Build the modeling with Glove  Embedding Layer \n",
        "model_3 = Sequential()\n",
        "model_3.add(Embedding(vocab_size,embedding_dim , input_length = seq_length))\n",
        "model_3.add(LSTM(150 , return_sequences= True))\n",
        "model_3.add(Dropout(0.3))\n",
        "model_3.add(LSTM(100))\n",
        "model_3.add(Dense(100 , activation='relu'))\n",
        "model_3.add(Dense(vocab_size , activation= 'softmax'))\n",
        "print(model_3.summary())"
      ],
      "execution_count": 89,
      "outputs": [
        {
          "output_type": "stream",
          "text": [
            "Model: \"sequential_10\"\n",
            "_________________________________________________________________\n",
            "Layer (type)                 Output Shape              Param #   \n",
            "=================================================================\n",
            "embedding_10 (Embedding)     (None, 100, 100)          693600    \n",
            "_________________________________________________________________\n",
            "lstm_19 (LSTM)               (None, 100, 150)          150600    \n",
            "_________________________________________________________________\n",
            "dropout_7 (Dropout)          (None, 100, 150)          0         \n",
            "_________________________________________________________________\n",
            "lstm_20 (LSTM)               (None, 100)               100400    \n",
            "_________________________________________________________________\n",
            "dense_18 (Dense)             (None, 100)               10100     \n",
            "_________________________________________________________________\n",
            "dense_19 (Dense)             (None, 6936)              700536    \n",
            "=================================================================\n",
            "Total params: 1,655,236\n",
            "Trainable params: 1,655,236\n",
            "Non-trainable params: 0\n",
            "_________________________________________________________________\n",
            "None\n"
          ],
          "name": "stdout"
        }
      ]
    },
    {
      "cell_type": "code",
      "metadata": {
        "id": "HnbiBnAr3ELx"
      },
      "source": [
        "model_3.layers[0].set_weights([embedding_matrix])\n",
        "model_3.layers[0].trainable = False"
      ],
      "execution_count": 90,
      "outputs": []
    },
    {
      "cell_type": "code",
      "metadata": {
        "id": "IUJ0w31D3I4B",
        "outputId": "1b44b50a-3c27-4919-d968-008f87d0226e",
        "colab": {
          "base_uri": "https://localhost:8080/",
          "height": 1000
        }
      },
      "source": [
        "model_3.compile(loss='categorical_crossentropy' , optimizer = 'adam' , metrics = ['accuracy'])\n",
        "model_3.fit(X ,y , batch_size = 64 , epochs=100)  "
      ],
      "execution_count": 91,
      "outputs": [
        {
          "output_type": "stream",
          "text": [
            "Epoch 1/100\n",
            "42/42 [==============================] - 2s 58ms/step - loss: 8.4343 - accuracy: 0.0053\n",
            "Epoch 2/100\n",
            "42/42 [==============================] - 2s 52ms/step - loss: 7.1577 - accuracy: 0.0189\n",
            "Epoch 3/100\n",
            "42/42 [==============================] - 2s 46ms/step - loss: 6.9754 - accuracy: 0.0189\n",
            "Epoch 4/100\n",
            "42/42 [==============================] - 2s 46ms/step - loss: 6.9296 - accuracy: 0.0189\n",
            "Epoch 5/100\n",
            "42/42 [==============================] - 2s 46ms/step - loss: 6.9102 - accuracy: 0.0189\n",
            "Epoch 6/100\n",
            "42/42 [==============================] - 2s 46ms/step - loss: 6.8999 - accuracy: 0.0189\n",
            "Epoch 7/100\n",
            "42/42 [==============================] - 2s 46ms/step - loss: 6.8879 - accuracy: 0.0189\n",
            "Epoch 8/100\n",
            "42/42 [==============================] - 2s 46ms/step - loss: 6.8713 - accuracy: 0.0155\n",
            "Epoch 9/100\n",
            "42/42 [==============================] - 2s 46ms/step - loss: 6.8505 - accuracy: 0.0189\n",
            "Epoch 10/100\n",
            "42/42 [==============================] - 2s 46ms/step - loss: 6.8288 - accuracy: 0.0189\n",
            "Epoch 11/100\n",
            "42/42 [==============================] - 2s 46ms/step - loss: 6.8072 - accuracy: 0.0185\n",
            "Epoch 12/100\n",
            "42/42 [==============================] - 2s 46ms/step - loss: 6.7716 - accuracy: 0.0196\n",
            "Epoch 13/100\n",
            "42/42 [==============================] - 2s 46ms/step - loss: 6.7023 - accuracy: 0.0226\n",
            "Epoch 14/100\n",
            "42/42 [==============================] - 2s 46ms/step - loss: 6.5868 - accuracy: 0.0257\n",
            "Epoch 15/100\n",
            "42/42 [==============================] - 2s 46ms/step - loss: 6.4758 - accuracy: 0.0294\n",
            "Epoch 16/100\n",
            "42/42 [==============================] - 2s 46ms/step - loss: 6.3677 - accuracy: 0.0287\n",
            "Epoch 17/100\n",
            "42/42 [==============================] - 2s 47ms/step - loss: 6.2555 - accuracy: 0.0298\n",
            "Epoch 18/100\n",
            "42/42 [==============================] - 2s 47ms/step - loss: 6.1342 - accuracy: 0.0358\n",
            "Epoch 19/100\n",
            "42/42 [==============================] - 2s 46ms/step - loss: 6.0106 - accuracy: 0.0396\n",
            "Epoch 20/100\n",
            "42/42 [==============================] - 2s 46ms/step - loss: 5.8728 - accuracy: 0.0404\n",
            "Epoch 21/100\n",
            "42/42 [==============================] - 2s 46ms/step - loss: 5.7433 - accuracy: 0.0411\n",
            "Epoch 22/100\n",
            "42/42 [==============================] - 2s 46ms/step - loss: 5.6154 - accuracy: 0.0453\n",
            "Epoch 23/100\n",
            "42/42 [==============================] - 2s 46ms/step - loss: 5.4831 - accuracy: 0.0494\n",
            "Epoch 24/100\n",
            "42/42 [==============================] - 2s 46ms/step - loss: 5.3707 - accuracy: 0.0536\n",
            "Epoch 25/100\n",
            "42/42 [==============================] - 2s 46ms/step - loss: 5.2643 - accuracy: 0.0517\n",
            "Epoch 26/100\n",
            "42/42 [==============================] - 2s 46ms/step - loss: 5.1739 - accuracy: 0.0558\n",
            "Epoch 27/100\n",
            "42/42 [==============================] - 2s 46ms/step - loss: 5.0851 - accuracy: 0.0589\n",
            "Epoch 28/100\n",
            "42/42 [==============================] - 2s 46ms/step - loss: 5.0274 - accuracy: 0.0596\n",
            "Epoch 29/100\n",
            "42/42 [==============================] - 2s 45ms/step - loss: 4.9356 - accuracy: 0.0600\n",
            "Epoch 30/100\n",
            "42/42 [==============================] - 2s 45ms/step - loss: 4.8610 - accuracy: 0.0679\n",
            "Epoch 31/100\n",
            "42/42 [==============================] - 2s 46ms/step - loss: 4.8051 - accuracy: 0.0657\n",
            "Epoch 32/100\n",
            "42/42 [==============================] - 2s 46ms/step - loss: 4.7432 - accuracy: 0.0694\n",
            "Epoch 33/100\n",
            "42/42 [==============================] - 2s 46ms/step - loss: 4.6686 - accuracy: 0.0717\n",
            "Epoch 34/100\n",
            "42/42 [==============================] - 2s 46ms/step - loss: 4.5878 - accuracy: 0.0789\n",
            "Epoch 35/100\n",
            "42/42 [==============================] - 2s 46ms/step - loss: 4.5358 - accuracy: 0.0808\n",
            "Epoch 36/100\n",
            "42/42 [==============================] - 2s 46ms/step - loss: 4.4765 - accuracy: 0.0808\n",
            "Epoch 37/100\n",
            "42/42 [==============================] - 2s 47ms/step - loss: 4.4084 - accuracy: 0.0808\n",
            "Epoch 38/100\n",
            "42/42 [==============================] - 2s 46ms/step - loss: 4.3346 - accuracy: 0.0913\n",
            "Epoch 39/100\n",
            "42/42 [==============================] - 2s 47ms/step - loss: 4.2843 - accuracy: 0.0891\n",
            "Epoch 40/100\n",
            "42/42 [==============================] - 2s 46ms/step - loss: 4.2209 - accuracy: 0.0925\n",
            "Epoch 41/100\n",
            "42/42 [==============================] - 2s 46ms/step - loss: 4.1458 - accuracy: 0.0962\n",
            "Epoch 42/100\n",
            "42/42 [==============================] - 2s 46ms/step - loss: 4.0661 - accuracy: 0.1038\n",
            "Epoch 43/100\n",
            "42/42 [==============================] - 2s 46ms/step - loss: 3.9942 - accuracy: 0.1075\n",
            "Epoch 44/100\n",
            "42/42 [==============================] - 2s 46ms/step - loss: 3.9345 - accuracy: 0.1204\n",
            "Epoch 45/100\n",
            "42/42 [==============================] - 2s 46ms/step - loss: 3.8668 - accuracy: 0.1200\n",
            "Epoch 46/100\n",
            "42/42 [==============================] - 2s 46ms/step - loss: 3.7885 - accuracy: 0.1325\n",
            "Epoch 47/100\n",
            "42/42 [==============================] - 2s 46ms/step - loss: 3.7077 - accuracy: 0.1328\n",
            "Epoch 48/100\n",
            "42/42 [==============================] - 2s 46ms/step - loss: 3.6296 - accuracy: 0.1445\n",
            "Epoch 49/100\n",
            "42/42 [==============================] - 2s 46ms/step - loss: 3.5485 - accuracy: 0.1577\n",
            "Epoch 50/100\n",
            "42/42 [==============================] - 2s 46ms/step - loss: 3.4673 - accuracy: 0.1642\n",
            "Epoch 51/100\n",
            "42/42 [==============================] - 2s 46ms/step - loss: 3.3921 - accuracy: 0.1792\n",
            "Epoch 52/100\n",
            "42/42 [==============================] - 2s 46ms/step - loss: 3.3123 - accuracy: 0.1883\n",
            "Epoch 53/100\n",
            "42/42 [==============================] - 2s 46ms/step - loss: 3.2561 - accuracy: 0.1932\n",
            "Epoch 54/100\n",
            "42/42 [==============================] - 2s 46ms/step - loss: 3.1616 - accuracy: 0.2196\n",
            "Epoch 55/100\n",
            "42/42 [==============================] - 2s 46ms/step - loss: 3.0894 - accuracy: 0.2287\n",
            "Epoch 56/100\n",
            "42/42 [==============================] - 2s 46ms/step - loss: 3.0397 - accuracy: 0.2317\n",
            "Epoch 57/100\n",
            "42/42 [==============================] - 2s 46ms/step - loss: 2.9529 - accuracy: 0.2483\n",
            "Epoch 58/100\n",
            "42/42 [==============================] - 2s 46ms/step - loss: 2.8989 - accuracy: 0.2706\n",
            "Epoch 59/100\n",
            "42/42 [==============================] - 2s 46ms/step - loss: 2.8421 - accuracy: 0.2577\n",
            "Epoch 60/100\n",
            "42/42 [==============================] - 2s 46ms/step - loss: 2.7561 - accuracy: 0.2875\n",
            "Epoch 61/100\n",
            "42/42 [==============================] - 2s 46ms/step - loss: 2.7316 - accuracy: 0.2906\n",
            "Epoch 62/100\n",
            "42/42 [==============================] - 2s 46ms/step - loss: 2.6552 - accuracy: 0.3091\n",
            "Epoch 63/100\n",
            "42/42 [==============================] - 2s 46ms/step - loss: 2.6129 - accuracy: 0.3147\n",
            "Epoch 64/100\n",
            "42/42 [==============================] - 2s 46ms/step - loss: 2.5415 - accuracy: 0.3491\n",
            "Epoch 65/100\n",
            "42/42 [==============================] - 2s 46ms/step - loss: 2.4864 - accuracy: 0.3491\n",
            "Epoch 66/100\n",
            "42/42 [==============================] - 2s 46ms/step - loss: 2.4222 - accuracy: 0.3611\n",
            "Epoch 67/100\n",
            "42/42 [==============================] - 2s 46ms/step - loss: 2.3584 - accuracy: 0.3891\n",
            "Epoch 68/100\n",
            "42/42 [==============================] - 2s 46ms/step - loss: 2.3230 - accuracy: 0.3849\n",
            "Epoch 69/100\n",
            "42/42 [==============================] - 2s 46ms/step - loss: 2.2575 - accuracy: 0.4075\n",
            "Epoch 70/100\n",
            "42/42 [==============================] - 2s 46ms/step - loss: 2.2211 - accuracy: 0.3958\n",
            "Epoch 71/100\n",
            "42/42 [==============================] - 2s 46ms/step - loss: 2.1700 - accuracy: 0.4294\n",
            "Epoch 72/100\n",
            "42/42 [==============================] - 2s 46ms/step - loss: 2.1082 - accuracy: 0.4502\n",
            "Epoch 73/100\n",
            "42/42 [==============================] - 2s 46ms/step - loss: 2.0789 - accuracy: 0.4506\n",
            "Epoch 74/100\n",
            "42/42 [==============================] - 2s 46ms/step - loss: 2.0026 - accuracy: 0.4679\n",
            "Epoch 75/100\n",
            "42/42 [==============================] - 2s 46ms/step - loss: 1.9433 - accuracy: 0.4913\n",
            "Epoch 76/100\n",
            "42/42 [==============================] - 2s 46ms/step - loss: 1.9109 - accuracy: 0.4996\n",
            "Epoch 77/100\n",
            "42/42 [==============================] - 2s 46ms/step - loss: 1.8656 - accuracy: 0.5117\n",
            "Epoch 78/100\n",
            "42/42 [==============================] - 2s 46ms/step - loss: 1.8204 - accuracy: 0.5158\n",
            "Epoch 79/100\n",
            "42/42 [==============================] - 2s 46ms/step - loss: 1.7650 - accuracy: 0.5328\n",
            "Epoch 80/100\n",
            "42/42 [==============================] - 2s 46ms/step - loss: 1.7326 - accuracy: 0.5389\n",
            "Epoch 81/100\n",
            "42/42 [==============================] - 2s 46ms/step - loss: 1.7028 - accuracy: 0.5487\n",
            "Epoch 82/100\n",
            "42/42 [==============================] - 2s 46ms/step - loss: 1.6329 - accuracy: 0.5638\n",
            "Epoch 83/100\n",
            "42/42 [==============================] - 2s 45ms/step - loss: 1.5895 - accuracy: 0.5785\n",
            "Epoch 84/100\n",
            "42/42 [==============================] - 2s 46ms/step - loss: 1.5519 - accuracy: 0.5906\n",
            "Epoch 85/100\n",
            "42/42 [==============================] - 2s 46ms/step - loss: 1.5321 - accuracy: 0.5966\n",
            "Epoch 86/100\n",
            "42/42 [==============================] - 2s 46ms/step - loss: 1.5018 - accuracy: 0.6106\n",
            "Epoch 87/100\n",
            "42/42 [==============================] - 2s 46ms/step - loss: 1.4489 - accuracy: 0.6143\n",
            "Epoch 88/100\n",
            "42/42 [==============================] - 2s 46ms/step - loss: 1.3864 - accuracy: 0.6415\n",
            "Epoch 89/100\n",
            "42/42 [==============================] - 2s 46ms/step - loss: 1.3550 - accuracy: 0.6543\n",
            "Epoch 90/100\n",
            "42/42 [==============================] - 2s 45ms/step - loss: 1.3213 - accuracy: 0.6498\n",
            "Epoch 91/100\n",
            "42/42 [==============================] - 2s 46ms/step - loss: 1.2907 - accuracy: 0.6653\n",
            "Epoch 92/100\n",
            "42/42 [==============================] - 2s 46ms/step - loss: 1.2551 - accuracy: 0.6736\n",
            "Epoch 93/100\n",
            "42/42 [==============================] - 2s 45ms/step - loss: 1.1979 - accuracy: 0.6917\n",
            "Epoch 94/100\n",
            "42/42 [==============================] - 2s 45ms/step - loss: 1.1851 - accuracy: 0.6894\n",
            "Epoch 95/100\n",
            "42/42 [==============================] - 2s 45ms/step - loss: 1.1412 - accuracy: 0.7042\n",
            "Epoch 96/100\n",
            "42/42 [==============================] - 2s 45ms/step - loss: 1.1209 - accuracy: 0.7132\n",
            "Epoch 97/100\n",
            "42/42 [==============================] - 2s 46ms/step - loss: 1.0715 - accuracy: 0.7192\n",
            "Epoch 98/100\n",
            "42/42 [==============================] - 2s 46ms/step - loss: 1.0540 - accuracy: 0.7340\n",
            "Epoch 99/100\n",
            "42/42 [==============================] - 2s 46ms/step - loss: 1.0285 - accuracy: 0.7415\n",
            "Epoch 100/100\n",
            "42/42 [==============================] - 2s 46ms/step - loss: 0.9928 - accuracy: 0.7483\n"
          ],
          "name": "stdout"
        },
        {
          "output_type": "execute_result",
          "data": {
            "text/plain": [
              "<tensorflow.python.keras.callbacks.History at 0x7f1dd0162dd8>"
            ]
          },
          "metadata": {
            "tags": []
          },
          "execution_count": 91
        }
      ]
    },
    {
      "cell_type": "markdown",
      "metadata": {
        "id": "lF3y3Z2G9wW6"
      },
      "source": [
        "# The accuracy is  high , I think so model is overfitting!!\n",
        "\n",
        "\n"
      ]
    },
    {
      "cell_type": "code",
      "metadata": {
        "id": "yTRUtZDA3Bve"
      },
      "source": [
        "def generate_seq_3(model , tokenizer , seq_length , seed_text , n_words):\n",
        "  result = list()\n",
        "  for _ in range(n_words):\n",
        "    #s\n",
        "    encoded = tokenizer.texts_to_sequences([seed_text])[0]\n",
        "    encoded = pad_sequences([encoded], maxlen=seq_length, truncating='pre' , padding = 'pre')\n",
        "    y_pred = model_3.predict_classes(encoded , verbose=0)\n",
        "    out_word = ''\n",
        "    for word ,index in tokenizer.word_index.items():\n",
        "      if index == y_pred:\n",
        "        out_word = word\n",
        "        break\n",
        "    seed_text += ' '+out_word\n",
        "    result.append(out_word)\n",
        "  return ' '.join(result) "
      ],
      "execution_count": 99,
      "outputs": []
    },
    {
      "cell_type": "code",
      "metadata": {
        "id": "uzJS27-P3RdV",
        "outputId": "ba5533c9-ef2b-4f3a-f955-93120a52fe0c",
        "colab": {
          "base_uri": "https://localhost:8080/",
          "height": 51
        }
      },
      "source": [
        "seed_text = tokens[random.randint(0,len(tokens))]\n",
        "#seed_text = 'There was once upon a time , when Britishers ruled India'\n",
        "print(seed_text + '\\n')"
      ],
      "execution_count": 98,
      "outputs": [
        {
          "output_type": "stream",
          "text": [
            " there was a man with his wife and two boys and some articles of furniture in a cart such as greengrocers use\n",
            "\n"
          ],
          "name": "stdout"
        }
      ]
    },
    {
      "cell_type": "code",
      "metadata": {
        "id": "ApXkorFT3RU8",
        "outputId": "301d4d8a-c1c2-420e-d3e3-1d7016aafee7",
        "colab": {
          "base_uri": "https://localhost:8080/",
          "height": 54
        }
      },
      "source": [
        "generated_text = generate_seq_3(model , tokenizer , seq_length , seed_text , 50)\n",
        "print(seed_text + ' -> ' +  generated_text)"
      ],
      "execution_count": 100,
      "outputs": [
        {
          "output_type": "stream",
          "text": [
            " there was a man with his wife and two boys and some articles of furniture in a cart such as greengrocers use -> hearts mine settled it mouth again killed horses gave them emptied restored miles us ruin another oclock beneath star it lay together immune conviction more days days days ago dead days be all out on me garden house house clearly forth over me garden house windows wanted on them hours\n"
          ],
          "name": "stdout"
        }
      ]
    },
    {
      "cell_type": "markdown",
      "metadata": {
        "id": "NTEC895-AmaW"
      },
      "source": [
        "# Build the model Without Glove Embedding Layer\n"
      ]
    },
    {
      "cell_type": "code",
      "metadata": {
        "id": "ACtBY2qUe9Vx",
        "outputId": "623fc5f6-303f-46b0-fe55-358a0992fe25",
        "colab": {
          "base_uri": "https://localhost:8080/",
          "height": 340
        }
      },
      "source": [
        "model = Sequential()\n",
        "model.add(Embedding(vocab_size,50 , input_length=seq_length))\n",
        "model.add(LSTM(150 , return_sequences= True))\n",
        "model.add(LSTM(150))\n",
        "model.add(Dense(100 , activation='relu'))\n",
        "model.add(Dense(vocab_size , activation= 'softmax'))\n",
        "print(model.summary())"
      ],
      "execution_count": 34,
      "outputs": [
        {
          "output_type": "stream",
          "text": [
            "Model: \"sequential\"\n",
            "_________________________________________________________________\n",
            "Layer (type)                 Output Shape              Param #   \n",
            "=================================================================\n",
            "embedding (Embedding)        (None, 100, 50)           346800    \n",
            "_________________________________________________________________\n",
            "lstm (LSTM)                  (None, 100, 150)          120600    \n",
            "_________________________________________________________________\n",
            "lstm_1 (LSTM)                (None, 150)               180600    \n",
            "_________________________________________________________________\n",
            "dense (Dense)                (None, 100)               15100     \n",
            "_________________________________________________________________\n",
            "dense_1 (Dense)              (None, 6936)              700536    \n",
            "=================================================================\n",
            "Total params: 1,363,636\n",
            "Trainable params: 1,363,636\n",
            "Non-trainable params: 0\n",
            "_________________________________________________________________\n",
            "None\n"
          ],
          "name": "stdout"
        }
      ]
    },
    {
      "cell_type": "code",
      "metadata": {
        "id": "3_VzazlefUjt",
        "outputId": "aa6ca964-9aff-495e-cfcb-5c9264509fb9",
        "colab": {
          "base_uri": "https://localhost:8080/",
          "height": 1000
        }
      },
      "source": [
        "model.compile(loss='categorical_crossentropy' , optimizer = 'adam')\n",
        "model.fit(X ,y , batch_size = 64 , epochs=100)  "
      ],
      "execution_count": 36,
      "outputs": [
        {
          "output_type": "stream",
          "text": [
            "Epoch 1/100\n",
            "42/42 [==============================] - 3s 67ms/step - loss: 8.4039\n",
            "Epoch 2/100\n",
            "42/42 [==============================] - 3s 62ms/step - loss: 7.2200\n",
            "Epoch 3/100\n",
            "42/42 [==============================] - 3s 62ms/step - loss: 7.0072\n",
            "Epoch 4/100\n",
            "42/42 [==============================] - 3s 61ms/step - loss: 6.9409\n",
            "Epoch 5/100\n",
            "42/42 [==============================] - 3s 60ms/step - loss: 6.9144\n",
            "Epoch 6/100\n",
            "42/42 [==============================] - 3s 60ms/step - loss: 6.9010\n",
            "Epoch 7/100\n",
            "42/42 [==============================] - 2s 59ms/step - loss: 6.8988\n",
            "Epoch 8/100\n",
            "42/42 [==============================] - 2s 59ms/step - loss: 6.8857\n",
            "Epoch 9/100\n",
            "42/42 [==============================] - 2s 58ms/step - loss: 6.8766\n",
            "Epoch 10/100\n",
            "42/42 [==============================] - 2s 58ms/step - loss: 6.8277\n",
            "Epoch 11/100\n",
            "42/42 [==============================] - 2s 58ms/step - loss: 6.7623\n",
            "Epoch 12/100\n",
            "42/42 [==============================] - 2s 58ms/step - loss: 6.7041\n",
            "Epoch 13/100\n",
            "42/42 [==============================] - 2s 58ms/step - loss: 6.6416\n",
            "Epoch 14/100\n",
            "42/42 [==============================] - 2s 58ms/step - loss: 6.5689\n",
            "Epoch 15/100\n",
            "42/42 [==============================] - 2s 57ms/step - loss: 6.4490\n",
            "Epoch 16/100\n",
            "42/42 [==============================] - 2s 58ms/step - loss: 6.2777\n",
            "Epoch 17/100\n",
            "42/42 [==============================] - 2s 58ms/step - loss: 6.1019\n",
            "Epoch 18/100\n",
            "42/42 [==============================] - 2s 58ms/step - loss: 5.9432\n",
            "Epoch 19/100\n",
            "42/42 [==============================] - 2s 58ms/step - loss: 5.7930\n",
            "Epoch 20/100\n",
            "42/42 [==============================] - 2s 57ms/step - loss: 5.6380\n",
            "Epoch 21/100\n",
            "42/42 [==============================] - 2s 58ms/step - loss: 5.4950\n",
            "Epoch 22/100\n",
            "42/42 [==============================] - 2s 58ms/step - loss: 5.3682\n",
            "Epoch 23/100\n",
            "42/42 [==============================] - 2s 58ms/step - loss: 5.2254\n",
            "Epoch 24/100\n",
            "42/42 [==============================] - 2s 58ms/step - loss: 5.1300\n",
            "Epoch 25/100\n",
            "42/42 [==============================] - 2s 58ms/step - loss: 5.0154\n",
            "Epoch 26/100\n",
            "42/42 [==============================] - 2s 58ms/step - loss: 4.8877\n",
            "Epoch 27/100\n",
            "42/42 [==============================] - 2s 58ms/step - loss: 4.7661\n",
            "Epoch 28/100\n",
            "42/42 [==============================] - 2s 58ms/step - loss: 4.6791\n",
            "Epoch 29/100\n",
            "42/42 [==============================] - 2s 58ms/step - loss: 4.5682\n",
            "Epoch 30/100\n",
            "42/42 [==============================] - 2s 57ms/step - loss: 4.4441\n",
            "Epoch 31/100\n",
            "42/42 [==============================] - 2s 57ms/step - loss: 4.3245\n",
            "Epoch 32/100\n",
            "42/42 [==============================] - 2s 58ms/step - loss: 4.2159\n",
            "Epoch 33/100\n",
            "42/42 [==============================] - 2s 57ms/step - loss: 4.1074\n",
            "Epoch 34/100\n",
            "42/42 [==============================] - 2s 58ms/step - loss: 4.0110\n",
            "Epoch 35/100\n",
            "42/42 [==============================] - 2s 58ms/step - loss: 3.9177\n",
            "Epoch 36/100\n",
            "42/42 [==============================] - 2s 58ms/step - loss: 3.8214\n",
            "Epoch 37/100\n",
            "42/42 [==============================] - 2s 58ms/step - loss: 3.7365\n",
            "Epoch 38/100\n",
            "42/42 [==============================] - 2s 58ms/step - loss: 3.6317\n",
            "Epoch 39/100\n",
            "42/42 [==============================] - 2s 57ms/step - loss: 3.5427\n",
            "Epoch 40/100\n",
            "42/42 [==============================] - 2s 58ms/step - loss: 3.4644\n",
            "Epoch 41/100\n",
            "42/42 [==============================] - 2s 58ms/step - loss: 3.3612\n",
            "Epoch 42/100\n",
            "42/42 [==============================] - 2s 57ms/step - loss: 3.2809\n",
            "Epoch 43/100\n",
            "42/42 [==============================] - 2s 58ms/step - loss: 3.2030\n",
            "Epoch 44/100\n",
            "42/42 [==============================] - 2s 57ms/step - loss: 3.1270\n",
            "Epoch 45/100\n",
            "42/42 [==============================] - 2s 58ms/step - loss: 3.0721\n",
            "Epoch 46/100\n",
            "42/42 [==============================] - 2s 59ms/step - loss: 2.9868\n",
            "Epoch 47/100\n",
            "42/42 [==============================] - 2s 59ms/step - loss: 2.9023\n",
            "Epoch 48/100\n",
            "42/42 [==============================] - 2s 58ms/step - loss: 2.8113\n",
            "Epoch 49/100\n",
            "42/42 [==============================] - 2s 58ms/step - loss: 2.7625\n",
            "Epoch 50/100\n",
            "42/42 [==============================] - 2s 58ms/step - loss: 2.6889\n",
            "Epoch 51/100\n",
            "42/42 [==============================] - 2s 58ms/step - loss: 2.6230\n",
            "Epoch 52/100\n",
            "42/42 [==============================] - 2s 58ms/step - loss: 2.5807\n",
            "Epoch 53/100\n",
            "42/42 [==============================] - 2s 57ms/step - loss: 2.5011\n",
            "Epoch 54/100\n",
            "42/42 [==============================] - 2s 58ms/step - loss: 2.4316\n",
            "Epoch 55/100\n",
            "42/42 [==============================] - 2s 57ms/step - loss: 2.3739\n",
            "Epoch 56/100\n",
            "42/42 [==============================] - 2s 58ms/step - loss: 2.3088\n",
            "Epoch 57/100\n",
            "42/42 [==============================] - 2s 58ms/step - loss: 2.2573\n",
            "Epoch 58/100\n",
            "42/42 [==============================] - 2s 58ms/step - loss: 2.1848\n",
            "Epoch 59/100\n",
            "42/42 [==============================] - 2s 58ms/step - loss: 2.1275\n",
            "Epoch 60/100\n",
            "42/42 [==============================] - 2s 58ms/step - loss: 2.0686\n",
            "Epoch 61/100\n",
            "42/42 [==============================] - 2s 58ms/step - loss: 2.0267\n",
            "Epoch 62/100\n",
            "42/42 [==============================] - 2s 57ms/step - loss: 1.9764\n",
            "Epoch 63/100\n",
            "42/42 [==============================] - 2s 58ms/step - loss: 1.9258\n",
            "Epoch 64/100\n",
            "42/42 [==============================] - 2s 57ms/step - loss: 1.8809\n",
            "Epoch 65/100\n",
            "42/42 [==============================] - 2s 58ms/step - loss: 1.8518\n",
            "Epoch 66/100\n",
            "42/42 [==============================] - 2s 58ms/step - loss: 1.7938\n",
            "Epoch 67/100\n",
            "42/42 [==============================] - 2s 58ms/step - loss: 1.7425\n",
            "Epoch 68/100\n",
            "42/42 [==============================] - 2s 57ms/step - loss: 1.6926\n",
            "Epoch 69/100\n",
            "42/42 [==============================] - 2s 58ms/step - loss: 1.6298\n",
            "Epoch 70/100\n",
            "42/42 [==============================] - 2s 58ms/step - loss: 1.5717\n",
            "Epoch 71/100\n",
            "42/42 [==============================] - 2s 58ms/step - loss: 1.5199\n",
            "Epoch 72/100\n",
            "42/42 [==============================] - 2s 58ms/step - loss: 1.4880\n",
            "Epoch 73/100\n",
            "42/42 [==============================] - 2s 58ms/step - loss: 1.4581\n",
            "Epoch 74/100\n",
            "42/42 [==============================] - 2s 57ms/step - loss: 1.4298\n",
            "Epoch 75/100\n",
            "42/42 [==============================] - 2s 58ms/step - loss: 1.3449\n",
            "Epoch 76/100\n",
            "42/42 [==============================] - 2s 58ms/step - loss: 1.2947\n",
            "Epoch 77/100\n",
            "42/42 [==============================] - 2s 58ms/step - loss: 1.2652\n",
            "Epoch 78/100\n",
            "42/42 [==============================] - 2s 57ms/step - loss: 1.2271\n",
            "Epoch 79/100\n",
            "42/42 [==============================] - 2s 58ms/step - loss: 1.1876\n",
            "Epoch 80/100\n",
            "42/42 [==============================] - 2s 57ms/step - loss: 1.1527\n",
            "Epoch 81/100\n",
            "42/42 [==============================] - 2s 58ms/step - loss: 1.1171\n",
            "Epoch 82/100\n",
            "42/42 [==============================] - 2s 58ms/step - loss: 1.0844\n",
            "Epoch 83/100\n",
            "42/42 [==============================] - 2s 58ms/step - loss: 1.0475\n",
            "Epoch 84/100\n",
            "42/42 [==============================] - 2s 57ms/step - loss: 1.0217\n",
            "Epoch 85/100\n",
            "42/42 [==============================] - 2s 58ms/step - loss: 0.9976\n",
            "Epoch 86/100\n",
            "42/42 [==============================] - 2s 58ms/step - loss: 0.9655\n",
            "Epoch 87/100\n",
            "42/42 [==============================] - 2s 58ms/step - loss: 0.9338\n",
            "Epoch 88/100\n",
            "42/42 [==============================] - 2s 57ms/step - loss: 0.8881\n",
            "Epoch 89/100\n",
            "42/42 [==============================] - 2s 58ms/step - loss: 0.8704\n",
            "Epoch 90/100\n",
            "42/42 [==============================] - 2s 58ms/step - loss: 0.8284\n",
            "Epoch 91/100\n",
            "42/42 [==============================] - 2s 58ms/step - loss: 0.8032\n",
            "Epoch 92/100\n",
            "42/42 [==============================] - 2s 58ms/step - loss: 0.8013\n",
            "Epoch 93/100\n",
            "42/42 [==============================] - 2s 58ms/step - loss: 0.7598\n",
            "Epoch 94/100\n",
            "42/42 [==============================] - 2s 58ms/step - loss: 0.7105\n",
            "Epoch 95/100\n",
            "42/42 [==============================] - 2s 57ms/step - loss: 0.6639\n",
            "Epoch 96/100\n",
            "42/42 [==============================] - 2s 58ms/step - loss: 0.6336\n",
            "Epoch 97/100\n",
            "42/42 [==============================] - 2s 58ms/step - loss: 0.6141\n",
            "Epoch 98/100\n",
            "42/42 [==============================] - 2s 57ms/step - loss: 0.5891\n",
            "Epoch 99/100\n",
            "42/42 [==============================] - 2s 57ms/step - loss: 0.5993\n",
            "Epoch 100/100\n",
            "42/42 [==============================] - 2s 57ms/step - loss: 0.6355\n"
          ],
          "name": "stdout"
        },
        {
          "output_type": "execute_result",
          "data": {
            "text/plain": [
              "<tensorflow.python.keras.callbacks.History at 0x7f1de62fdda0>"
            ]
          },
          "metadata": {
            "tags": []
          },
          "execution_count": 36
        }
      ]
    },
    {
      "cell_type": "code",
      "metadata": {
        "id": "aBaBXVuEfZne"
      },
      "source": [
        "def generate_seq(model , tokenizer , seq_length , seed_text , n_words):\n",
        "  result = list()\n",
        "  for _ in range(n_words):\n",
        "    #s\n",
        "    encoded = tokenizer.texts_to_sequences([seed_text])[0]\n",
        "    encoded = pad_sequences([encoded], maxlen=seq_length, truncating='pre' , padding = 'pre')\n",
        "    y_pred = model.predict_classes(encoded , verbose=0)\n",
        "    out_word = ''\n",
        "    for word ,index in tokenizer.word_index.items():\n",
        "      if index == y_pred:\n",
        "        out_word = word\n",
        "        break\n",
        "    seed_text += ' '+out_word\n",
        "    result.append(out_word)\n",
        "  return ' '.join(result) "
      ],
      "execution_count": 45,
      "outputs": []
    },
    {
      "cell_type": "code",
      "metadata": {
        "id": "NLihakz-fhrc",
        "outputId": "e15afd2d-5a38-4ce1-9528-ebdd77f3bb6c",
        "colab": {
          "base_uri": "https://localhost:8080/",
          "height": 71
        }
      },
      "source": [
        "seed_text = tokens[random.randint(0,len(tokens))]\n",
        "#seed_text = 'There was once upon a time , when Britishers ruled India'\n",
        "print(seed_text + '\\n')\n"
      ],
      "execution_count": 96,
      "outputs": [
        {
          "output_type": "stream",
          "text": [
            " already men weeping with joy as i have heard shouting and staying their work to shake hands and shout were making up trains even as near as crewe to descend upon london\n",
            "\n"
          ],
          "name": "stdout"
        }
      ]
    },
    {
      "cell_type": "code",
      "metadata": {
        "id": "eYX7w1SJe9Eg",
        "outputId": "0a153761-94b0-4a22-e817-2ba662257675",
        "colab": {
          "base_uri": "https://localhost:8080/",
          "height": 54
        }
      },
      "source": [
        "generated_text = generate_seq(model , tokenizer , seq_length , seed_text , 50)\n",
        "print(seed_text + ' ' +  generated_text)"
      ],
      "execution_count": 97,
      "outputs": [
        {
          "output_type": "stream",
          "text": [
            " already men weeping with joy as i have heard shouting and staying their work to shake hands and shout were making up trains even as near as crewe to descend upon london common creeper day rose forethought nearer bear another position packages brightly days days energy tone punch solitude shivering monstrous guns worry carriages quality empty shivering scalded scalded scalded scalded dead days it fro ago there itself dead doors upward yet killed desolate apathy days days days days two days days\n"
          ],
          "name": "stdout"
        }
      ]
    },
    {
      "cell_type": "code",
      "metadata": {
        "id": "6YZ3yH2nb82Z"
      },
      "source": [
        ""
      ],
      "execution_count": null,
      "outputs": []
    },
    {
      "cell_type": "code",
      "metadata": {
        "id": "CX-Cbm53cmPP"
      },
      "source": [
        ""
      ],
      "execution_count": null,
      "outputs": []
    },
    {
      "cell_type": "code",
      "metadata": {
        "id": "NOgWmAx6X7uc"
      },
      "source": [
        ""
      ],
      "execution_count": null,
      "outputs": []
    },
    {
      "cell_type": "code",
      "metadata": {
        "id": "hR4xY9CQX2N4"
      },
      "source": [
        ""
      ],
      "execution_count": null,
      "outputs": []
    },
    {
      "cell_type": "code",
      "metadata": {
        "id": "lt5Ge54sXWu6"
      },
      "source": [
        ""
      ],
      "execution_count": null,
      "outputs": []
    },
    {
      "cell_type": "code",
      "metadata": {
        "id": "wOVqU-zPWcIz"
      },
      "source": [
        ""
      ],
      "execution_count": null,
      "outputs": []
    },
    {
      "cell_type": "code",
      "metadata": {
        "id": "7H08s9QvfsK7"
      },
      "source": [
        ""
      ],
      "execution_count": null,
      "outputs": []
    },
    {
      "cell_type": "code",
      "metadata": {
        "id": "rx50srXXahKK"
      },
      "source": [
        ""
      ],
      "execution_count": null,
      "outputs": []
    },
    {
      "cell_type": "code",
      "metadata": {
        "id": "P_nSPA9safH3"
      },
      "source": [
        ""
      ],
      "execution_count": null,
      "outputs": []
    }
  ]
}